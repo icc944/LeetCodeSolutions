{
 "cells": [
  {
   "cell_type": "code",
   "execution_count": 42,
   "metadata": {},
   "outputs": [
    {
     "name": "stdout",
     "output_type": "stream",
     "text": [
      "11.8 µs ± 1.86 µs per loop (mean ± std. dev. of 7 runs, 100000 loops each)\n"
     ]
    }
   ],
   "source": [
    "%%timeit \n",
    "class Solution(object):\n",
    "    def convert(self, s, numRows):\n",
    "        if numRows == 1: return s\n",
    "        \n",
    "        max_width = int((len(s)/numRows)*(numRows))\n",
    "        matrix = [['' for x in range(max_width)] for _ in range(numRows)]\n",
    "        \n",
    "        pi, pj = 0,0\n",
    "        plus_i = -1\n",
    "        plus_j = 1\n",
    "\n",
    "        for letter in s:\n",
    "            if pi <= 0:\n",
    "                plus_i=1\n",
    "                plus_j = 0\n",
    "            elif pi >= numRows-1:\n",
    "                plus_i=-1\n",
    "                plus_j = 1\n",
    "            \n",
    "            try:\n",
    "                \n",
    "                matrix[pi][pj] = letter\n",
    "                pi+= plus_i\n",
    "                pj+= plus_j\n",
    "            except:\n",
    "                pj+=1\n",
    "                pi-=1\n",
    "                matrix[pi][pj] = letter\n",
    "                \n",
    "        return ''.join([''.join(i) for i in matrix])\n",
    "    \n",
    "Solution().convert(\"ABC\",1)"
   ]
  }
 ],
 "metadata": {
  "kernelspec": {
   "display_name": "campeche",
   "language": "python",
   "name": "python3"
  },
  "language_info": {
   "codemirror_mode": {
    "name": "ipython",
    "version": 3
   },
   "file_extension": ".py",
   "mimetype": "text/x-python",
   "name": "python",
   "nbconvert_exporter": "python",
   "pygments_lexer": "ipython3",
   "version": "3.8.15"
  }
 },
 "nbformat": 4,
 "nbformat_minor": 2
}
