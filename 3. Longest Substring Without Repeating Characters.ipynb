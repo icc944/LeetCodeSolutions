{
 "cells": [
  {
   "cell_type": "code",
   "execution_count": 30,
   "metadata": {},
   "outputs": [],
   "source": [
    "# word = \"abcabcbb\" #3\n",
    "# word = \"pwwkew\" #3\n",
    "# s = \"abcfchgdmartinez\"\n",
    "word = \"dvdf\""
   ]
  },
  {
   "cell_type": "code",
   "execution_count": 31,
   "metadata": {},
   "outputs": [
    {
     "name": "stdout",
     "output_type": "stream",
     "text": [
      "d\n",
      "v\n",
      "d\n",
      "----------\n",
      "f\n"
     ]
    },
    {
     "data": {
      "text/plain": [
       "2"
      ]
     },
     "execution_count": 31,
     "metadata": {},
     "output_type": "execute_result"
    }
   ],
   "source": [
    "class Solution(object):\n",
    "    def lengthOfLongestSubstring(self, s):\n",
    "        i=0; j=0;\n",
    "        mapa = {};\n",
    "        max_substring = 0;\n",
    "\n",
    "        for j in range(0, len(s)):\n",
    "            print(s[j])\n",
    "            if s[j] in mapa:\n",
    "                max_substring = max(max_substring, j-i-1)\n",
    "\n",
    "                i+=1\n",
    "                del mapa[s[j]]\n",
    "                print(\"-\"*10)\n",
    "            else: \n",
    "                max_substring = max(max_substring, j-i)\n",
    "                mapa[s[j]] = j\n",
    "\n",
    "        return max_substring\n",
    "\n",
    "Solution().lengthOfLongestSubstring(word)     "
   ]
  }
 ],
 "metadata": {
  "kernelspec": {
   "display_name": "campeche",
   "language": "python",
   "name": "python3"
  },
  "language_info": {
   "codemirror_mode": {
    "name": "ipython",
    "version": 3
   },
   "file_extension": ".py",
   "mimetype": "text/x-python",
   "name": "python",
   "nbconvert_exporter": "python",
   "pygments_lexer": "ipython3",
   "version": "3.11.4"
  }
 },
 "nbformat": 4,
 "nbformat_minor": 2
}
