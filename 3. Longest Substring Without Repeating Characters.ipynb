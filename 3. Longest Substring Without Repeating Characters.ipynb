{
 "cells": [
  {
   "cell_type": "code",
   "execution_count": 89,
   "metadata": {},
   "outputs": [],
   "source": [
    "# s= \"pwwkew\"\n",
    "# s = \"abcfchgdmartinez\"\n",
    "s=\"dvdf\""
   ]
  },
  {
   "cell_type": "code",
   "execution_count": 90,
   "metadata": {},
   "outputs": [
    {
     "name": "stdout",
     "output_type": "stream",
     "text": [
      "d\n",
      "v\n",
      "[ 2 ]\n",
      "----------\n",
      "d\n",
      "f\n",
      "Máximo: 2\n"
     ]
    }
   ],
   "source": [
    "i=0\n",
    "j=0\n",
    "max_substring = 0\n",
    "mapa = {}\n",
    "\n",
    "for j in range(len(s)):\n",
    "    if (s[j] in mapa):\n",
    "        max_substring = max(max_substring, j-i)\n",
    "        print(\"[\",j-i,\"]\")\n",
    "        i=j\n",
    "        mapa={}\n",
    "        mapa[s[j]] = j\n",
    "        print(\"-\"*10)\n",
    "    else:\n",
    "        mapa[s[j]] = j\n",
    "        \n",
    "    print(s[j])\n",
    "    \n",
    "print(\"Máximo:\", max((j-i)+1, max_substring))"
   ]
  }
 ],
 "metadata": {
  "kernelspec": {
   "display_name": "campeche",
   "language": "python",
   "name": "python3"
  },
  "language_info": {
   "codemirror_mode": {
    "name": "ipython",
    "version": 3
   },
   "file_extension": ".py",
   "mimetype": "text/x-python",
   "name": "python",
   "nbconvert_exporter": "python",
   "pygments_lexer": "ipython3",
   "version": "3.8.15"
  }
 },
 "nbformat": 4,
 "nbformat_minor": 2
}
