{
 "cells": [
  {
   "cell_type": "code",
   "execution_count": 105,
   "metadata": {},
   "outputs": [],
   "source": [
    "# word = \"pwwkew\" #+ r= 3\n",
    "# word = \"abcabcbb\" #3\n",
    "# word = \"abcfchgdmerlinus\" #+ 13\n",
    "# word = \"dvdf\""
   ]
  },
  {
   "cell_type": "code",
   "execution_count": 107,
   "metadata": {},
   "outputs": [
    {
     "name": "stdout",
     "output_type": "stream",
     "text": [
      "d\n",
      "v\n",
      "----------\n",
      "v\n",
      "d\n",
      "f\n"
     ]
    },
    {
     "data": {
      "text/plain": [
       "3"
      ]
     },
     "execution_count": 107,
     "metadata": {},
     "output_type": "execute_result"
    }
   ],
   "source": [
    "class Solution(object):\n",
    "    def lengthOfLongestSubstring(self, s):\n",
    "        i=0; j=0;\n",
    "        mapa = {};\n",
    "        longer = 0;\n",
    "        \n",
    "        while (j<len(s)):\n",
    "            current = s[j]\n",
    "            \n",
    "            \n",
    "            if current in mapa:\n",
    "                # print(\"Ojo con: \", current)\n",
    "                longer = max(longer, j-i)\n",
    "                i=mapa[current]+1\n",
    "                j=i-1\n",
    "                mapa = {}\n",
    "                print(\"-\"*10)\n",
    "            else:\n",
    "                mapa[current] = j\n",
    "                print(current)\n",
    "            j+=1\n",
    "        \n",
    "        return max(longer, j-i)\n",
    "\n",
    "Solution().lengthOfLongestSubstring(word)     "
   ]
  }
 ],
 "metadata": {
  "kernelspec": {
   "display_name": "campeche",
   "language": "python",
   "name": "python3"
  },
  "language_info": {
   "codemirror_mode": {
    "name": "ipython",
    "version": 3
   },
   "file_extension": ".py",
   "mimetype": "text/x-python",
   "name": "python",
   "nbconvert_exporter": "python",
   "pygments_lexer": "ipython3",
   "version": "3.8.15"
  }
 },
 "nbformat": 4,
 "nbformat_minor": 2
}
