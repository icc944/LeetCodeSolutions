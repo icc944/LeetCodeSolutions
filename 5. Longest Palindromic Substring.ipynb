{
 "cells": [
  {
   "cell_type": "markdown",
   "metadata": {},
   "source": [
    "### Recursivity Solution O(n^3)\n",
    "---"
   ]
  },
  {
   "cell_type": "code",
   "execution_count": 5,
   "metadata": {},
   "outputs": [],
   "source": [
    "word = \"reconocer\"\n",
    "substring = \"babad\"\n",
    "# substring = \"cbbd\"\n",
    "# substring = \"ac\"\n",
    "# substring = \"a\"\n",
    "# substring = \"bb\""
   ]
  },
  {
   "cell_type": "code",
   "execution_count": 6,
   "metadata": {},
   "outputs": [],
   "source": [
    "def is_palindrome(s):\n",
    "    if len(s) <= 1:\n",
    "        return True\n",
    "    \n",
    "    if s[0] == s[-1]:\n",
    "        return is_palindrome(s[1:-1])\n",
    "    else: \n",
    "        return False"
   ]
  },
  {
   "cell_type": "code",
   "execution_count": 116,
   "metadata": {},
   "outputs": [
    {
     "data": {
      "text/plain": [
       "'aaaaaaaaaaaaaaaaaaaaaaaaaaaaaaaaaaaaaaaaaaaaaaaaaaaaaaaaaaaaaaaaaaaaaaaaaaaaaaaaaaaaaaaaaaaaaaaaaaaaaaaaaaaaaaaaaaaaaaaaaaaaaaaaaaaaaaaaaaaaaaaaaaaaaaaaaaaaaaaaaaaaaaaaaaaaaaaaaaaaaaaaaaaaaaaaaaaaaaaaaaaaaaaaaaaaaaaaaaaaaaaaaaaaaaaaaaaaaaaaaaaaaaaaaaaaaaaaaaaaaaaaaaaaaaaaaaaaaaaaaaaaaaaaaaaaaaaaaaaaaaaaaaaaaaaaaaaaaaaaaaaaaaaaaaaaaaaaaaaaaaaaaaaaaaaaaaaaaaaaaaaaaaaaaaaaaaaaaaaaaaaaaaaaaaaaaaaaaaaaaaaaaaaaaaaaaaaaaaaaaaaaaaaaaaaaaaaaaaaaaaaaaaaaaaaaaaaaaaaaaaaaaaaaaaaaaaaaaaaaaaaaaaaaaaaaaaaaaaaa'"
      ]
     },
     "execution_count": 116,
     "metadata": {},
     "output_type": "execute_result"
    }
   ],
   "source": [
    "class Solution(object):\n",
    "    def longestPalindrome(self, s):\n",
    "       if len(s) == 1: return s\n",
    "       i=0;\n",
    "       j=len(s)\n",
    "       longest_palindrome = ''\n",
    "       longest = float(\"-inf\")\n",
    "\n",
    "       for i in range(0, len(s)):\n",
    "           while len(s[i:j]) >= 1:\n",
    "               if is_palindrome(s[i:j]):\n",
    "                   if (j-i) > longest:\n",
    "                       longest = j-i\n",
    "                       longest_palindrome = s[i:j]\n",
    "                   break\n",
    "               else:\n",
    "                   j-=1\n",
    "           j=len(s)\n",
    "\n",
    "       return longest_palindrome\n",
    "\n",
    "\n",
    "Solution().longestPalindrome(substring) "
   ]
  },
  {
   "cell_type": "markdown",
   "metadata": {},
   "source": [
    "### Iterative Solution O(n^2)\n",
    "---"
   ]
  },
  {
   "cell_type": "code",
   "execution_count": 14,
   "metadata": {},
   "outputs": [],
   "source": [
    "substring = \"ac\"\n",
    "substring = \"cbbxbbd\"\n",
    "# substring = \"ccc\""
   ]
  },
  {
   "cell_type": "code",
   "execution_count": 17,
   "metadata": {},
   "outputs": [
    {
     "data": {
      "text/plain": [
       "'bbxbb'"
      ]
     },
     "execution_count": 17,
     "metadata": {},
     "output_type": "execute_result"
    }
   ],
   "source": [
    "class Solution(object):\n",
    "    def longestPalindrome(self, s):\n",
    "        if len(s) == 1: return s\n",
    "        longer_str = ''\n",
    "        longer_len = 0;\n",
    "\n",
    "        for i in range(len(s)):\n",
    "            #+ even -> pares\n",
    "            left, right = i, i \n",
    "            while left >= 0 and right < len(s) and s[left] == s[right]:\n",
    "                if (right - left +1) > longer_len:\n",
    "                    longer_str = s[left:right+1]\n",
    "                    longer_len = right-left+1\n",
    "                left -= 1\n",
    "                right +=1 \n",
    "            \n",
    "            #+ odd -> impar\n",
    "            left, right = i, i+1\n",
    "\n",
    "            while left >= 0 and right < len(s) and s[left] == s[right]:\n",
    "                if (right - left + 1) > longer_len:\n",
    "                    longer_str = s[left:right+1]\n",
    "                    longer_len = right-left + 1\n",
    "                left -= 1\n",
    "                right += 1 \n",
    "\n",
    "        return longer_str\n",
    "\n",
    "\n",
    "Solution().longestPalindrome(substring) "
   ]
  }
 ],
 "metadata": {
  "kernelspec": {
   "display_name": "Python 3",
   "language": "python",
   "name": "python3"
  },
  "language_info": {
   "codemirror_mode": {
    "name": "ipython",
    "version": 3
   },
   "file_extension": ".py",
   "mimetype": "text/x-python",
   "name": "python",
   "nbconvert_exporter": "python",
   "pygments_lexer": "ipython3",
   "version": "3.8.8"
  }
 },
 "nbformat": 4,
 "nbformat_minor": 2
}
