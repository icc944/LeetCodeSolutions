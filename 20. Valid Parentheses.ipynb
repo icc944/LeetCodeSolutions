{
 "cells": [
  {
   "cell_type": "code",
   "execution_count": 32,
   "metadata": {},
   "outputs": [],
   "source": [
    "class Stack:\n",
    "    def __init__(self):\n",
    "        self.stack = []\n",
    "        \n",
    "    def push(self, value):\n",
    "        self.stack.append(value)\n",
    "    \n",
    "    def pop(self):\n",
    "        if len(self.stack) != 0:\n",
    "            return self.stack.pop()\n",
    "        \n",
    "    def last(self):\n",
    "        if len(self.stack) != 0:\n",
    "            return self.stack[-1]\n",
    "        return None\n",
    "    @property\n",
    "    def empty(self):\n",
    "        return len(self.stack) == 0\n",
    "    \n",
    "    def __repr__(self) -> str:\n",
    "        return f\"{self.stack}\""
   ]
  },
  {
   "cell_type": "code",
   "execution_count": 47,
   "metadata": {},
   "outputs": [
    {
     "data": {
      "text/plain": [
       "True"
      ]
     },
     "execution_count": 47,
     "metadata": {},
     "output_type": "execute_result"
    }
   ],
   "source": [
    "class Solution:\n",
    "    def isValid(self, s: str) -> bool:\n",
    "        if len(s) == 1:\n",
    "            return False\n",
    "        \n",
    "        pila = Stack()\n",
    "        mapa = {\n",
    "            \")\":\"(\",\n",
    "            \"]\":\"[\",\n",
    "            \"}\":\"{\"\n",
    "        }\n",
    "        for c in s:\n",
    "            if c in mapa.keys():\n",
    "                if pila.last() == mapa.get(c,c):\n",
    "                    pila.pop()\n",
    "                else:\n",
    "                    pila.push(c)\n",
    "            else:\n",
    "                pila.push(c)\n",
    "        return pila.empty\n",
    "Solution().isValid(s=\"()(){}\")"
   ]
  }
 ],
 "metadata": {
  "kernelspec": {
   "display_name": "campeche",
   "language": "python",
   "name": "python3"
  },
  "language_info": {
   "codemirror_mode": {
    "name": "ipython",
    "version": 3
   },
   "file_extension": ".py",
   "mimetype": "text/x-python",
   "name": "python",
   "nbconvert_exporter": "python",
   "pygments_lexer": "ipython3",
   "version": "3.8.15"
  }
 },
 "nbformat": 4,
 "nbformat_minor": 2
}
