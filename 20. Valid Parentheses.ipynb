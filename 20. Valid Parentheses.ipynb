{
 "cells": [
  {
   "cell_type": "code",
   "execution_count": 1,
   "metadata": {},
   "outputs": [],
   "source": [
    "# Example 1:\n",
    "\n",
    "# Input: s = \"()\"\n",
    "# Output: true\n",
    "# Example 2:\n",
    "\n",
    "# Input: s = \"()[]{}\"\n",
    "# Output: true\n",
    "# Example 3:\n",
    "\n",
    "# Input: s = \"(]\"\n",
    "# Output: false"
   ]
  },
  {
   "cell_type": "code",
   "execution_count": 20,
   "metadata": {},
   "outputs": [
    {
     "name": "stdout",
     "output_type": "stream",
     "text": [
      "[]\n",
      ")\n",
      "[')']\n",
      ")\n",
      "[')', ')']\n",
      "]\n",
      "[')', ')', ']']\n",
      "]\n",
      "[')', ')', ']', ']']\n",
      "}\n",
      "[')', ')', ']', ']', '}']\n",
      "}\n"
     ]
    }
   ],
   "source": [
    "class Solution:\n",
    "    def isValid(self, s: str) -> bool:\n",
    "        mapa = {\n",
    "            \"(\":\")\",\n",
    "            \"[\":\"]\",\n",
    "            \"{\":\"}\"\n",
    "        }\n",
    "        cadena = []\n",
    "        for c in s:\n",
    "            print(cadena)\n",
    "            print(mapa.get(c,c))\n",
    "            cadena.append(mapa.get(c,c))\n",
    "\n",
    "\n",
    "\n",
    "Solution().isValid(s=\"()[]{}\")"
   ]
  },
  {
   "cell_type": "code",
   "execution_count": 8,
   "metadata": {},
   "outputs": [
    {
     "data": {
      "text/plain": [
       "0"
      ]
     },
     "execution_count": 8,
     "metadata": {},
     "output_type": "execute_result"
    }
   ],
   "source": [
    "12%6"
   ]
  }
 ],
 "metadata": {
  "language_info": {
   "name": "python"
  }
 },
 "nbformat": 4,
 "nbformat_minor": 2
}
