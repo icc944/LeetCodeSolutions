{
 "cells": [
  {
   "cell_type": "code",
   "execution_count": 16,
   "metadata": {},
   "outputs": [],
   "source": [
    "# Definition for a binary tree node.\n",
    "from typing import Optional\n",
    "class TreeNode:\n",
    "    def __init__(self, val=0, left=None, right=None):\n",
    "        self.val = val\n",
    "        self.left = left\n",
    "        self.right = right"
   ]
  },
  {
   "cell_type": "code",
   "execution_count": 62,
   "metadata": {},
   "outputs": [],
   "source": [
    "#|#+ Caso 1\n",
    "sub_a = TreeNode(val=2, left=3, right=4)\n",
    "sub_b = TreeNode(val=2, left=4, right=3)\n",
    "nodo = TreeNode(val=1, left=sub_a, right=sub_b)"
   ]
  },
  {
   "cell_type": "code",
   "execution_count": 30,
   "metadata": {},
   "outputs": [],
   "source": [
    "#|#+ Caso 2\n",
    "sub_a = TreeNode(val=2, left=3, right=4)\n",
    "sub_b = TreeNode(val=2, left=3, right=4)\n",
    "nodo = TreeNode(val=1, left=sub_a, right=sub_b)"
   ]
  },
  {
   "cell_type": "code",
   "execution_count": 33,
   "metadata": {},
   "outputs": [],
   "source": [
    "#|#+ Caso 3\n",
    "sub_a = TreeNode(val=2, left=None, right=None)\n",
    "sub_b = TreeNode(val=2, left=None, right=None)\n",
    "nodo = TreeNode(val=1, left=sub_a, right=sub_b)"
   ]
  },
  {
   "cell_type": "code",
   "execution_count": 75,
   "metadata": {},
   "outputs": [],
   "source": [
    "#|#+ Caso 4\n",
    "sub_a = TreeNode(val=2, left=5, right=None)\n",
    "sub_b = TreeNode(val=2, left=None, right=5)\n",
    "nodo = TreeNode(val=1, left=sub_a, right=sub_b)"
   ]
  },
  {
   "cell_type": "code",
   "execution_count": 71,
   "metadata": {},
   "outputs": [],
   "source": [
    "#|#+ Caso 5\n",
    "sub_a = TreeNode(val=2, left=None, right=3)\n",
    "sub_b = TreeNode(val=2, left=None, right=3)\n",
    "nodo = TreeNode(val=1, left=sub_a, right=sub_b)"
   ]
  },
  {
   "cell_type": "code",
   "execution_count": 76,
   "metadata": {},
   "outputs": [
    {
     "data": {
      "text/plain": [
       "True"
      ]
     },
     "execution_count": 76,
     "metadata": {},
     "output_type": "execute_result"
    }
   ],
   "source": [
    "class Solution:\n",
    "    def isSymmetric(self, root: Optional[TreeNode]) -> bool:\n",
    "        if root is None: return True\n",
    "        \n",
    "        def isSymetryRecursive(nodeA,nodeB):\n",
    "            #+ Caso base\n",
    "            if nodeA is None and nodeB is None: return True #+ Si ambos son None, son identicos\n",
    "            if nodeA is None or nodeB is None: return False #+ SI alguno lo es, se\n",
    "                \n",
    "            if isinstance(nodeA, int) or isinstance(nodeB, int):\n",
    "                if nodeA==nodeB:\n",
    "                    return True\n",
    "                return False\n",
    "            \n",
    "            if (nodeA.val != nodeB.val):\n",
    "                return False\n",
    "\n",
    "            return isSymetryRecursive(nodeA.left, nodeB.right) and isSymetryRecursive(nodeA.right, nodeB.left)\n",
    "            \n",
    "        return isSymetryRecursive(nodeA=root.left,nodeB=root.right)\n",
    "Solution().isSymmetric(nodo)"
   ]
  }
 ],
 "metadata": {
  "kernelspec": {
   "display_name": "campeche",
   "language": "python",
   "name": "python3"
  },
  "language_info": {
   "codemirror_mode": {
    "name": "ipython",
    "version": 3
   },
   "file_extension": ".py",
   "mimetype": "text/x-python",
   "name": "python",
   "nbconvert_exporter": "python",
   "pygments_lexer": "ipython3",
   "version": "3.8.15"
  }
 },
 "nbformat": 4,
 "nbformat_minor": 2
}
