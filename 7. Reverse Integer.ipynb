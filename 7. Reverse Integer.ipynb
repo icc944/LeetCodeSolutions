{
 "cells": [
  {
   "cell_type": "code",
   "execution_count": 222,
   "metadata": {},
   "outputs": [
    {
     "name": "stdout",
     "output_type": "stream",
     "text": [
      "-321\n"
     ]
    }
   ],
   "source": [
    "import math\n",
    "\n",
    "class Solution(object):\n",
    "    def reverse(self, x):\n",
    "        limite_superior = pow(2,32)-1\n",
    "        limite_inferior = -pow(2,32)\n",
    "        reversed_integer = 0\n",
    "\n",
    "        while x!=0:\n",
    "            if (reversed_integer > limite_superior/10) or (reversed_integer < limite_inferior/10):\n",
    "                return 0\n",
    "            digito = x %10 if x > 0 else x%10-10\n",
    "            reversed_integer = reversed_integer*10 + digito\n",
    "            x = math.trunc(x/10)\n",
    "\n",
    "        return reversed_integer\n",
    "\n",
    "\n",
    "print(Solution().reverse(x=-123))"
   ]
  }
 ],
 "metadata": {
  "kernelspec": {
   "display_name": "Python 3",
   "language": "python",
   "name": "python3"
  },
  "language_info": {
   "codemirror_mode": {
    "name": "ipython",
    "version": 3
   },
   "file_extension": ".py",
   "mimetype": "text/x-python",
   "name": "python",
   "nbconvert_exporter": "python",
   "pygments_lexer": "ipython3",
   "version": "3.11.4"
  }
 },
 "nbformat": 4,
 "nbformat_minor": 2
}
